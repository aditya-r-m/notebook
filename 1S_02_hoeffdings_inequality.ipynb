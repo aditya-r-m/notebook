{
  "cells": [
    {
      "cell_type": "markdown",
      "metadata": {
        "id": "view-in-github",
        "colab_type": "text"
      },
      "source": [
        "<a href=\"https://colab.research.google.com/github/aditya-r-m/notes/blob/main/1S_02_hoeffdings_inequality.ipynb\" target=\"_parent\"><img src=\"https://colab.research.google.com/assets/colab-badge.svg\" alt=\"Open In Colab\"/></a>"
      ]
    },
    {
      "cell_type": "markdown",
      "metadata": {
        "id": "VZ7t_-r0fh-c"
      },
      "source": [
        "Let $X$ be a random variable which assumes values $\\{-1, 1\\}$ with equal probability.\n",
        "\n",
        "We are interested in the value of\n",
        "$\n",
        "P(X_1 + X_2 + .. + X_n \\le na)\n",
        "\\iff\n",
        "P(e^{s(X_1 + X_2 + .. + X_n)} \\le e^{sna})\n",
        "$\n",
        "\n",
        "by Markov's inequality, <br/>\n",
        "$\\Large\n",
        "P(e^{s(X_1 + X_2 + .. + X_n) \\ge e^{sna}}) \\le \\frac{E[e^{s(X_1+X_2+..+X_n)}]}{e^{sna}}\n",
        "$"
      ]
    }
  ],
  "metadata": {
    "kernelspec": {
      "display_name": "Python 3",
      "language": "python",
      "name": "python3"
    },
    "language_info": {
      "codemirror_mode": {
        "name": "ipython",
        "version": 3
      },
      "file_extension": ".py",
      "mimetype": "text/x-python",
      "name": "python",
      "nbconvert_exporter": "python",
      "pygments_lexer": "ipython3",
      "version": "3.8.10"
    },
    "orig_nbformat": 4,
    "colab": {
      "provenance": [],
      "include_colab_link": true
    }
  },
  "nbformat": 4,
  "nbformat_minor": 0
}