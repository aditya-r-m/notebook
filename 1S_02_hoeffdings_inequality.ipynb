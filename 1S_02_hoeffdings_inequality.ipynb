{
  "cells": [
    {
      "cell_type": "markdown",
      "metadata": {
        "id": "view-in-github",
        "colab_type": "text"
      },
      "source": [
        "<a href=\"https://colab.research.google.com/github/aditya-r-m/notes/blob/main/1S_02_hoeffdings_inequality.ipynb\" target=\"_parent\"><img src=\"https://colab.research.google.com/assets/colab-badge.svg\" alt=\"Open In Colab\"/></a>"
      ]
    },
    {
      "cell_type": "markdown",
      "metadata": {
        "id": "VZ7t_-r0fh-c"
      },
      "source": [
        "Let $X$ be a random variable which assumes values $\\{-1, 1\\}$ with equal probability.\n",
        "\n",
        "We are interested in the sum of i.i.d. copies of this - which we can investigate through Markov's inequality and properties of expected values & exponentials,\n",
        "\n",
        "$\n",
        "P(X_1 + X_2 + .. + X_n \\ge na)\n",
        "\\iff\n",
        "P(e^{s(X_1 + X_2 + .. + X_n)} \\ge e^{sna})\n",
        "$ <br/> $\\Large\n",
        "P(e^{s(X_1 + X_2 + .. + X_n) \\ge e^{sna}}) \\le \\frac{E[e^{s(X_1+X_2+..+X_n)}]}{e^{sna}}\n",
        "= \\left(\\frac{E[e^{sX}]}{e^{sa}}\\right)^n\n",
        "= \\left(\\frac{e^s + e^{-s}}{2 e^{sa}}\\right)^n\n",
        "$"
      ]
    },
    {
      "cell_type": "markdown",
      "source": [
        "The two terms of interest here are $(e^s + e^{-s})/2$ and $e^{sa}$. Since at $s=0$ both of these are equal to $1$ with derivatives $0,1$ respectively, we can always find small values of $s$ where the overall ratio is less than $1$, & decays exponentially with $n$.\n",
        "\n",
        "Expanding using taylor series for the numerator, <br/>\n",
        "\n",
        "$\\Large\n",
        "\\frac{e^s + e^{-s}}{2}\n",
        "= \\sum_{i=0}^{\\infty} \\frac{s^{2i}}{(2i)!}\n",
        "= \\sum_{i=0}^{\\infty} \\frac{s^{2i}}{i! \\prod_{j=1}^{i} (i+j)}\n",
        "\\le \\sum_{i=0}^{\\infty} \\frac{s^{2i}}{i! 2^i}\n",
        "= \\sum_{i=0}^{\\infty} \\frac{\\left(\\frac{s^2}{2}\\right)^i}{i!}\n",
        "= e^{\\frac{s^2}{2}}\n",
        "$"
      ],
      "metadata": {
        "id": "1PBBWuUR_oK3"
      }
    },
    {
      "cell_type": "markdown",
      "source": [
        "Substituting the results above with $s=a$, we get the final result. This technique also generalizes to distributions beyond the simple one considered here.\n",
        "\n",
        "$\\Large\n",
        "P(X_1 + X_2 +..+ X_n \\ge na) \\le e^{\\frac{-na^2}{2}}\n",
        "$"
      ],
      "metadata": {
        "id": "JpmKxCM7_ru_"
      }
    }
  ],
  "metadata": {
    "kernelspec": {
      "display_name": "Python 3",
      "language": "python",
      "name": "python3"
    },
    "language_info": {
      "codemirror_mode": {
        "name": "ipython",
        "version": 3
      },
      "file_extension": ".py",
      "mimetype": "text/x-python",
      "name": "python",
      "nbconvert_exporter": "python",
      "pygments_lexer": "ipython3",
      "version": "3.8.10"
    },
    "orig_nbformat": 4,
    "colab": {
      "provenance": [],
      "include_colab_link": true
    }
  },
  "nbformat": 4,
  "nbformat_minor": 0
}